{
 "cells": [
  {
   "cell_type": "code",
   "execution_count": null,
   "metadata": {},
   "outputs": [],
   "source": [
    "import pandas as pd\n",
    "import csv\n",
    "import string\n",
    "import numpy as np"
   ]
  },
  {
   "cell_type": "code",
   "execution_count": null,
   "metadata": {},
   "outputs": [],
   "source": [
    "search = 'NUMBER'\n",
    "url = f'https://classic.set.or.th/set/commonslookup.do?language=en&country=US&prefix={search}'"
   ]
  },
  {
   "cell_type": "code",
   "execution_count": null,
   "metadata": {},
   "outputs": [],
   "source": [
    "# make array to scrape company list\n",
    "alphabet = list(string.ascii_uppercase)\n",
    "search_array = ['NUMBER']\n",
    "search_array = np.concatenate((search_array,alphabet), axis=0)\n",
    "\n",
    "#scrapes a list of company tickers, names and market\n",
    "search_array\n",
    "df_all = pd.DataFrame()\n",
    "for idx in search_array:\n",
    "    url_to_scrape_company_list = F'https://classic.set.or.th/set/commonslookup.do?language=en&country=US&prefix={idx}'\n",
    "    df_all = pd.concat([df_all, pd.read_html(url_to_scrape_company_list)[0]],ignore_index=True)\n",
    "\n",
    "#replaces \"&\" with \"%26\" so tickers with \"&\" can be searched by URL\n",
    "i = 0\n",
    "for tickers in df_all['Symbol']:\n",
    "    df_all['Symbol'][i] = df_all['Symbol'][i].replace('&', '%26')\n",
    "    i += 1\n",
    "\n",
    "\n"
   ]
  },
  {
   "cell_type": "code",
   "execution_count": null,
   "metadata": {},
   "outputs": [],
   "source": [
    "#define function that finds the index number for the fundamental multiples table\n",
    "def find_correct_index(list_of_data_frame):\n",
    "    for number in range(1,7):\n",
    "            if list_of_data_frame[number+14][0][0] == 'Accumulated: Turnover Ratio, Value Trade/Day':\n",
    "                return number+14"
   ]
  },
  {
   "cell_type": "code",
   "execution_count": null,
   "metadata": {},
   "outputs": [],
   "source": [
    "list_to_add = []\n",
    "\n",
    "#for every ticker, find the correct index number and record the YTD P/E\n",
    "for ticker in df_all['Symbol']:\n",
    "    temp_list = pd.read_html(f'https://classic.set.or.th/set/factsheet.do?symbol={ticker}&ssoPageId=3&language=en&country=TH')\n",
    "    try:\n",
    "        list_to_add.append(temp_list[find_correct_index(temp_list)][1][7])\n",
    "    except:\n",
    "        print(ticker)"
   ]
  },
  {
   "cell_type": "code",
   "execution_count": null,
   "metadata": {},
   "outputs": [],
   "source": [
    "#iterate through every entry and turn string into float (for excel)\n",
    "i = 0\n",
    "for number in list_to_add:\n",
    "    try:\n",
    "        list_to_add[i] = float (number)\n",
    "    except:\n",
    "        list_to_add[i] = list_to_add[i]\n",
    "    i += 1"
   ]
  },
  {
   "cell_type": "code",
   "execution_count": null,
   "metadata": {},
   "outputs": [],
   "source": [
    "#creates new column in df_all and exports to excel\n",
    "df_all['P/E'] = list_to_add\n",
    "df_all.to_excel(\"output.xlsx\")"
   ]
  }
 ],
 "metadata": {
  "kernelspec": {
   "display_name": "Python 3",
   "language": "python",
   "name": "python3"
  },
  "language_info": {
   "codemirror_mode": {
    "name": "ipython",
    "version": 3
   },
   "file_extension": ".py",
   "mimetype": "text/x-python",
   "name": "python",
   "nbconvert_exporter": "python",
   "pygments_lexer": "ipython3",
   "version": "3.11.1"
  },
  "orig_nbformat": 4,
  "vscode": {
   "interpreter": {
    "hash": "aee8b7b246df8f9039afb4144a1f6fd8d2ca17a180786b69acc140d282b71a49"
   }
  }
 },
 "nbformat": 4,
 "nbformat_minor": 2
}
